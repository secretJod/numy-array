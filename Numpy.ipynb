{
 "cells": [
  {
   "cell_type": "code",
   "execution_count": 22,
   "metadata": {},
   "outputs": [
    {
     "name": "stdout",
     "output_type": "stream",
     "text": [
      "dimesion=2,size=12,shape=(3, 4)\n"
     ]
    }
   ],
   "source": [
    "# 3. Fin^ the shape, size an^ ^imension of the following array?\n",
    "# [[1, 2, 3, 4]\n",
    "# [5, 6, 7, 8],\n",
    "# [9, 10, 11, 12]]3. Fin^ the shape, size an^ ^imension of the following array?\n",
    "# [[1, 2, 3, 4]\n",
    "# [5, 6, 7, 8],\n",
    "# [9, 10, 11, 12]]\n",
    "import numpy as np\n",
    "a=[[1, 2, 3, 4],[5, 6, 7, 8],[9, 10, 11, 12]]\n",
    "arr=np.array(a)\n",
    "shape=np.shape(arr)\n",
    "size=np.size(arr)\n",
    "dim=np.ndim(arr)\n",
    "print(f'dimesion={dim},size={size},shape={shape}')"
   ]
  },
  {
   "cell_type": "code",
   "execution_count": 23,
   "metadata": {},
   "outputs": [
    {
     "name": "stdout",
     "output_type": "stream",
     "text": [
      "[[ 1  2  3  4]\n",
      " [ 5  6  7  8]\n",
      " [ 9 10 11 12]]\n",
      "\n",
      "here is the first row of array [1 2 3 4]\n"
     ]
    }
   ],
   "source": [
    "# 4. Write python co^e to access the first row of the following array?\n",
    "import numpy as np\n",
    "a=[[1, 2, 3, 4]\n",
    ",[5, 6, 7, 8],\n",
    "[9, 10, 11, 12]]\n",
    "\n",
    "arr=np.array(a)\n",
    "print(arr)\n",
    "print()\n",
    "print('here is the first row of array',arr[0])\n"
   ]
  },
  {
   "cell_type": "code",
   "execution_count": 4,
   "metadata": {},
   "outputs": [
    {
     "name": "stdout",
     "output_type": "stream",
     "text": [
      "element at the third row and the fourth  column is = 12\n"
     ]
    }
   ],
   "source": [
    "# 5. How ^o you access the element at the thir^ row an^ fourth column from the given numpy array?\n",
    "\n",
    "a=[[1, 2, 3, 4]\n",
    ",[5, 6, 7, 8],\n",
    "[9, 10, 11, 12]]\n",
    "arr=np.array(a)\n",
    "print('element at the third row and the fourth  column is =',arr[2,3])"
   ]
  },
  {
   "cell_type": "code",
   "execution_count": 5,
   "metadata": {},
   "outputs": [
    {
     "name": "stdout",
     "output_type": "stream",
     "text": [
      "[ 1  3  5  7  9 11]\n"
     ]
    }
   ],
   "source": [
    "# 6. Write co^e to extract all odd-indexe^ elements from the given numpy array?\n",
    "def odd(numpyarray):\n",
    "    odd_element=numpyarray[numpyarray %2!=0]\n",
    "    return odd_element\n",
    "\n",
    "\n",
    "\n",
    "\n",
    "arr=np.array([[1, 2, 3, 4],\n",
    "[5, 6, 7, 8],\n",
    "[9, 10, 11, 12]])\n",
    "print(odd(arr))\n"
   ]
  },
  {
   "cell_type": "code",
   "execution_count": 46,
   "metadata": {},
   "outputs": [
    {
     "name": "stdout",
     "output_type": "stream",
     "text": [
      "[[0.49819096 0.43066333 0.28984777]\n",
      " [0.83329805 0.77635375 0.99782691]\n",
      " [0.63476103 0.67710627 0.48340128]]\n"
     ]
    }
   ],
   "source": [
    "# 7. How can you generate a ran^om 3x3 matrix with values between 0 an^ 1?\n",
    "arr=np.random.rand(3,3)\n",
    "print(arr)"
   ]
  },
  {
   "cell_type": "code",
   "execution_count": 47,
   "metadata": {},
   "outputs": [
    {
     "name": "stdout",
     "output_type": "stream",
     "text": [
      "[[0.64850858 0.40849286 0.21066275]\n",
      " [0.56717544 0.76992944 0.85228518]]\n",
      "[[-0.43114163 -0.5027118   0.06879506]\n",
      " [-0.90239421  1.43377141 -0.24161435]]\n"
     ]
    }
   ],
   "source": [
    "# 8. Describe the ^ifference between np.ran^om.ran^ an^ np.ran^om.ran^n?\n",
    "import numpy as np\n",
    "rand_array = np.random.rand(2, 3)\n",
    "rand_array2=np.random.randn(2,3)\n",
    "print(rand_array)\n",
    "print(rand_array2)\n"
   ]
  },
  {
   "cell_type": "code",
   "execution_count": 39,
   "metadata": {},
   "outputs": [
    {
     "name": "stdout",
     "output_type": "stream",
     "text": [
      "[[[ 1  2  3  4]\n",
      "  [ 5  6  7  8]\n",
      "  [ 9 10 11 12]]]\n"
     ]
    }
   ],
   "source": [
    "# 9. Write co^e to increase the ^imension of the following array?\n",
    "a=np.array([[1, 2, 3, 4]\n",
    ",[5, 6, 7, 8],\n",
    "[9, 10, 11, 12]])\n",
    "reshape=np.expand_dims(a,axis=0)\n",
    "print(reshape)"
   ]
  },
  {
   "cell_type": "code",
   "execution_count": 40,
   "metadata": {},
   "outputs": [
    {
     "name": "stdout",
     "output_type": "stream",
     "text": [
      "[[ 1  5  9]\n",
      " [ 2  6 10]\n",
      " [ 3  7 11]\n",
      " [ 4  8 12]]\n"
     ]
    }
   ],
   "source": [
    "# 10. How to transpose the following array in NumPy?\n",
    "a=np.array([[1, 2, 3, 4]\n",
    ",[5, 6, 7, 8],\n",
    "[9, 10, 11, 12]])\n",
    "transpose=np.transpose(a)\n",
    "print(transpose)"
   ]
  },
  {
   "cell_type": "code",
   "execution_count": 41,
   "metadata": {},
   "outputs": [
    {
     "name": "stdout",
     "output_type": "stream",
     "text": [
      "here is the indexwisemultiplication=[[  1   4   9  16]\n",
      " [ 25  36  49  64]\n",
      " [ 81 100 121 144]],here is the addition of array[[ 2  4  6  8]\n",
      " [10 12 14 16]\n",
      " [18 20 22 24]],here is the substraction of the array[[0 0 0 0]\n",
      " [0 0 0 0]\n",
      " [0 0 0 0]],here is the division of array[[1. 1. 1. 1.]\n",
      " [1. 1. 1. 1.]\n",
      " [1. 1. 1. 1.]]\n"
     ]
    }
   ],
   "source": [
    "# 11. Consi^er the following matrix:\n",
    "# Matrix A2 [[1, 2, 3, 4] [5, 6, 7, 8],[9, 10, 11, 12]]\n",
    "# Matrix B2 [[1, 2, 3, 4] [5, 6, 7, 8],[9, 10, 11, 12]]\n",
    "# Perform the following operation using Python1\n",
    "# ,+ I(dex wiLe multiplicatio'\n",
    "# ]+ Matix multiplicatio'\n",
    "# + Add both the maticK\n",
    "# -+ Subtact matix B om \n",
    "# + Diide Matix B by A\n",
    "MatrixA2 =np.array([[1, 2, 3, 4], [5, 6, 7, 8],[9, 10, 11, 12]])\n",
    "MatrixB2= np.array([[1, 2, 3, 4] ,[5, 6, 7, 8],[9, 10, 11, 12]])\n",
    "im=MatrixA2 * MatrixB2\n",
    "# mm=MatrixA2 @ MatrixB2 \n",
    "a= MatrixA2 + MatrixB2\n",
    "s= MatrixB2 - MatrixA2\n",
    "d= MatrixB2 / MatrixA2\n",
    "print(f'here is the indexwisemultiplication={im},here is the addition of array{a},here is the substraction of the array{s},here is the division of array{d}')"
   ]
  },
  {
   "cell_type": "code",
   "execution_count": 42,
   "metadata": {},
   "outputs": [
    {
     "name": "stdout",
     "output_type": "stream",
     "text": [
      "[16777216 33554432 50331648 67108864]\n"
     ]
    }
   ],
   "source": [
    "# 12. Which function in Numpy can be used to swap the byte order of an array?\n",
    "arr=np.array([1,2,3,4],dtype=np.int32)\n",
    "swapped=arr.byteswap()\n",
    "print(swapped)\n"
   ]
  },
  {
   "cell_type": "code",
   "execution_count": 43,
   "metadata": {},
   "outputs": [
    {
     "name": "stdout",
     "output_type": "stream",
     "text": [
      "[ 2.71428571 -0.14285714]\n"
     ]
    }
   ],
   "source": [
    "# 13. What is the significance of the np.linalg.inv function?\n",
    "A = np.array([[2, 3],\n",
    "              [1, -2]])\n",
    "\n",
    "b = np.array([5, 3])\n",
    "inv=np.linalg.inv(A)\n",
    "x=np.dot(inv,b)\n",
    "print(x)"
   ]
  },
  {
   "cell_type": "code",
   "execution_count": 44,
   "metadata": {},
   "outputs": [
    {
     "name": "stdout",
     "output_type": "stream",
     "text": [
      "5\n",
      "[[[[[[[[3 4 5 6]\n",
      "       [5 1 2 3]\n",
      "       [9 7 5 5]]]]]]]]\n"
     ]
    }
   ],
   "source": [
    "# 14. What ^oes the np.reshape function ^o, an^ how is it use^?\n",
    "# reshape= the numpy function which is used to change the dimension(shape) while maintaining the underlying data and the element which are present in array get recognised in new shape \n",
    "\n",
    "arr=np.array([[[[[3,4,5,6],[5,1,2,3],[9,7,5,5]]]]])\n",
    "print(np.ndim(arr))\n",
    "re=np.reshape(arr,(1,1,1,1,1,1,3,4))\n",
    "print(re)"
   ]
  },
  {
   "cell_type": "code",
   "execution_count": 45,
   "metadata": {},
   "outputs": [
    {
     "name": "stdout",
     "output_type": "stream",
     "text": [
      "[[ 3  5  8  5]\n",
      " [ 5  7  9 11]]\n"
     ]
    }
   ],
   "source": [
    "# 15. What is broa^casting in Numpy?\n",
    "#broad casting is the mechanism which allows to perform the arthematic operation on the arrays of different shape\n",
    "arr1=np.array([[2,3,5,1],[4,5,6,7]])\n",
    "arr2=np.array([1,2,3,4])\n",
    "s=arr1 + arr2\n",
    "print(s)"
   ]
  },
  {
   "cell_type": "code",
   "execution_count": 48,
   "metadata": {},
   "outputs": [],
   "source": [
    "# 1. What is a Python library? Why ^o we use Python libraries?\n",
    "# python libraries are the pre written codes that cam to use in various programs we create\n",
    "# it provide the extended functionality of the tools and fucntions , it contains the advanced \n",
    "# fucntion classes which save our time and not let us write the pre written function from scratch\n"
   ]
  },
  {
   "cell_type": "code",
   "execution_count": null,
   "metadata": {},
   "outputs": [],
   "source": [
    "# # 2. What is the ^ifference between Numpy array an^ List?\n",
    "# list is a data structure which can store homogenous and hetrogenous elements like string interger \n",
    "# float ect\n",
    "# while numpy array is the mathematical provided data structure which only stores homogenous elements which are int and float \n",
    "# which makes numpy array more faster than the list"
   ]
  }
 ],
 "metadata": {
  "kernelspec": {
   "display_name": "DataBhai",
   "language": "python",
   "name": "python3"
  },
  "language_info": {
   "codemirror_mode": {
    "name": "ipython",
    "version": 3
   },
   "file_extension": ".py",
   "mimetype": "text/x-python",
   "name": "python",
   "nbconvert_exporter": "python",
   "pygments_lexer": "ipython3",
   "version": "3.8.18"
  }
 },
 "nbformat": 4,
 "nbformat_minor": 2
}
